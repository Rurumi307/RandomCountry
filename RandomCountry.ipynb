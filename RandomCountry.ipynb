{
 "cells": [
  {
   "cell_type": "code",
   "execution_count": 3,
   "id": "43ab4770",
   "metadata": {},
   "outputs": [
    {
     "name": "stdout",
     "output_type": "stream",
     "text": [
      "      行政區名稱  去過 一日遊\n",
      "245  雲林縣北港鎮 NaT   Y\n",
      "218  彰化縣永靖鄉 NaT   Y\n"
     ]
    }
   ],
   "source": [
    "import pandas as pd\n",
    "\n",
    "# 設定檔案與工作表 / Set file path and sheet name\n",
    "file_path = './RandomCountry.xlsx'\n",
    "sheet_name = '行政區名稱'\n",
    "\n",
    "# 讀取資料 / Read data from Excel\n",
    "df = pd.read_excel(file_path, sheet_name=sheet_name)\n",
    "\n",
    "# 篩選出「一日遊」為 Y 且「去過」不為 Y 的資料\n",
    "# Filter rows where 'Day Trip' == 'Y' and 'Visited' != 'Y'\n",
    "filtered_df = df.query(\"一日遊 == 'Y' and 去過 != 'Y'\")\n",
    "\n",
    "# 隨機抽取指定筆數 (可調整 n)\n",
    "# Randomly sample specified number of rows (adjust n as needed)\n",
    "n = 2\n",
    "random_rows = filtered_df.sample(n=n, random_state=None)\n",
    "\n",
    "# 顯示結果 / Display the randomly selected rows\n",
    "print(random_rows)\n"
   ]
  }
 ],
 "metadata": {
  "kernelspec": {
   "display_name": "Python 3",
   "language": "python",
   "name": "python3"
  },
  "language_info": {
   "codemirror_mode": {
    "name": "ipython",
    "version": 3
   },
   "file_extension": ".py",
   "mimetype": "text/x-python",
   "name": "python",
   "nbconvert_exporter": "python",
   "pygments_lexer": "ipython3",
   "version": "3.9.13"
  }
 },
 "nbformat": 4,
 "nbformat_minor": 5
}
